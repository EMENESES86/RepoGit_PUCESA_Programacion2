{
 "cells": [
  {
   "cell_type": "markdown",
   "metadata": {},
   "source": [
    "# Ing. Edison Meneses MSc.\n",
    "### Ingeniero en Sistemas de Información  \n",
    "### Magister en Sistemas de Información Mención en Inteligencia de Negocios y Analítica Datos Masivos  \n",
    "### emeneses@emenesesdevelopers.com"
   ]
  },
  {
   "cell_type": "markdown",
   "metadata": {},
   "source": [
    "🧠 Temas que cubrirá:\n",
    "\n",
    "    ¿Qué es la Programación Orientada a Objetos?\n",
    "    Clases y Objetos\n",
    "    Atributos y Métodos\n",
    "    Encapsulamiento\n",
    "    Herencia\n",
    "    Polimorfismo\n",
    "    Ejercicios prácticos"
   ]
  },
  {
   "cell_type": "markdown",
   "metadata": {},
   "source": [
    "📘 CLASE: Introducción a la Programación Orientada a Objetos (POO) con Python\n",
    "🎯 Objetivo de la clase:\n",
    "\n",
    "Conocer los principios teóricos de la programación orientada a objetos, entender cómo se implementan en Python y aplicar estos conceptos en ejercicios sencillos.\n"
   ]
  },
  {
   "cell_type": "markdown",
   "metadata": {},
   "source": [
    "1. ¿Qué es la Programación Orientada a Objetos?\n",
    "🔹 Definición:\n",
    "\n",
    "La Programación Orientada a Objetos (POO) es una forma de escribir programas dividiéndolos en objetos, que representan cosas del mundo real. Cada objeto tiene características (llamadas atributos) y acciones que puede realizar (llamadas métodos).\n",
    "🔹 Ejemplo cotidiano:\n",
    "\n",
    "Imagina que estás modelando un auto en tu programa:\n",
    "\n",
    "    Atributos: color, marca, velocidad.\n",
    "\n",
    "    Métodos: arrancar, frenar, acelerar.\n",
    "\n",
    "    🧠 Importante: La POO permite organizar mejor el código, hacerlo más fácil de mantener y reutilizar."
   ]
  },
  {
   "cell_type": "markdown",
   "metadata": {},
   "source": [
    "---------------"
   ]
  },
  {
   "cell_type": "markdown",
   "metadata": {},
   "source": [
    "2. Clases y Objetos\n",
    "🔹 Clase:\n",
    "\n",
    "Es como una plantilla para crear objetos. Define los atributos y métodos que tendrán los objetos.\n",
    "\n",
    "📌 Ejemplo en la vida real: La clase \"Perro\" puede ser una plantilla general con nombre, raza y edad.\n",
    "🔹 Objeto:\n",
    "\n",
    "Es una instancia de una clase. Es el resultado de usar la clase para crear algo real.\n",
    "\n",
    "📌 Ejemplo en código:"
   ]
  },
  {
   "cell_type": "code",
   "execution_count": 6,
   "metadata": {},
   "outputs": [
    {
     "name": "stdout",
     "output_type": "stream",
     "text": [
      "Nombre: Fido\n",
      "Raza: Labrador\n"
     ]
    }
   ],
   "source": [
    "# Clase\n",
    "class Perro:\n",
    "    def __init__(self, nombre, raza):\n",
    "        self.nombre = nombre\n",
    "        self.raza = raza\n",
    "\n",
    "# Objeto\n",
    "mi_perro = Perro(\"Fido\", \"Labrador\")\n",
    "\n",
    "print(\"Nombre:\", mi_perro.nombre)\n",
    "print(\"Raza:\", mi_perro.raza)\n",
    "\n"
   ]
  },
  {
   "cell_type": "markdown",
   "metadata": {},
   "source": [
    "__________"
   ]
  },
  {
   "cell_type": "markdown",
   "metadata": {},
   "source": [
    "3. Atributos y Métodos\n",
    "🔹 Atributos:\n",
    "\n",
    "Son las variables que pertenecen a una clase. Guardan la información o estado del objeto.\n",
    "🔹 Métodos:\n",
    "\n",
    "Son funciones dentro de una clase. Representan el comportamiento del objeto.\n",
    "\n",
    "📌 Ejemplo:"
   ]
  },
  {
   "cell_type": "code",
   "execution_count": 7,
   "metadata": {},
   "outputs": [
    {
     "name": "stdout",
     "output_type": "stream",
     "text": [
      "Fido\n",
      "¡Guau!\n"
     ]
    }
   ],
   "source": [
    "class Perro:\n",
    "    def __init__(self, nombre, raza):\n",
    "        self.nombre = nombre     # Atributo\n",
    "        self.raza = raza         # Atributo\n",
    "\n",
    "    def ladrar(self):            # Método\n",
    "        print(\"¡Guau!\")\n",
    "\n",
    "fido = Perro(\"Fido\", \"Labrador\")\n",
    "print(fido.nombre)\n",
    "fido.ladrar()"
   ]
  },
  {
   "cell_type": "markdown",
   "metadata": {},
   "source": [
    "_______________"
   ]
  },
  {
   "cell_type": "markdown",
   "metadata": {},
   "source": [
    "4. Encapsulamiento\n",
    "🔹 Definición:\n",
    "\n",
    "Es el principio de ocultar los detalles internos de un objeto y mostrar solo lo necesario. Protege los datos y evita que otros accedan directamente a los atributos.\n",
    "\n",
    "📌 Ejemplo con atributos privados:"
   ]
  },
  {
   "cell_type": "code",
   "execution_count": 1,
   "metadata": {},
   "outputs": [
    {
     "name": "stdout",
     "output_type": "stream",
     "text": [
      "150\n"
     ]
    }
   ],
   "source": [
    "class CuentaBancaria:\n",
    "    def __init__(self, saldo):\n",
    "        self.__saldo = saldo  # Atributo privado\n",
    "\n",
    "    def ver_saldo(self):\n",
    "        return self.__saldo\n",
    "\n",
    "    def depositar(self, cantidad):\n",
    "        if cantidad > 0:\n",
    "            self.__saldo += cantidad\n",
    "\n",
    "cuenta = CuentaBancaria(100)\n",
    "cuenta.depositar(50)\n",
    "print(cuenta.ver_saldo())  # Muestra 150\n"
   ]
  },
  {
   "cell_type": "markdown",
   "metadata": {},
   "source": [
    "🔒 __saldo está \"encapsulado\", no se puede acceder directamente desde fuera de la clase."
   ]
  },
  {
   "cell_type": "markdown",
   "metadata": {},
   "source": [
    "___________________"
   ]
  },
  {
   "cell_type": "markdown",
   "metadata": {},
   "source": [
    "5. Herencia\n",
    "🔹 Definición:\n",
    "\n",
    "La herencia permite que una clase nueva (hija) tome atributos y métodos de otra clase (padre), y puede agregar o modificar los suyos propios.\n",
    "\n",
    "📌 Ejemplo:"
   ]
  },
  {
   "cell_type": "code",
   "execution_count": 2,
   "metadata": {},
   "outputs": [
    {
     "name": "stdout",
     "output_type": "stream",
     "text": [
      "El perro dice ¡Guau!\n"
     ]
    }
   ],
   "source": [
    "class Animal:\n",
    "    def hablar(self):\n",
    "        print(\"Este animal hace un sonido.\")\n",
    "\n",
    "class Perro(Animal):\n",
    "    def hablar(self):\n",
    "        print(\"El perro dice ¡Guau!\")\n",
    "\n",
    "perro = Perro()\n",
    "perro.hablar()\n"
   ]
  },
  {
   "cell_type": "markdown",
   "metadata": {},
   "source": [
    "🧠 El objeto perro hereda de Animal, pero modifica el comportamiento del método hablar."
   ]
  },
  {
   "cell_type": "markdown",
   "metadata": {},
   "source": [
    "___________________________"
   ]
  },
  {
   "cell_type": "markdown",
   "metadata": {},
   "source": [
    "6. Polimorfismo\n",
    "🔹 Definición:\n",
    "\n",
    "El polimorfismo permite que diferentes clases usen el mismo método con comportamientos distintos.\n",
    "\n",
    "📌 Ejemplo con varias clases:"
   ]
  },
  {
   "cell_type": "code",
   "execution_count": 3,
   "metadata": {},
   "outputs": [
    {
     "name": "stdout",
     "output_type": "stream",
     "text": [
      "Miau\n",
      "Guau\n"
     ]
    }
   ],
   "source": [
    "class Gato:\n",
    "    def hacer_sonido(self):\n",
    "        print(\"Miau\")\n",
    "\n",
    "class Perro:\n",
    "    def hacer_sonido(self):\n",
    "        print(\"Guau\")\n",
    "\n",
    "# Uso polimórfico\n",
    "def hacer_sonido_animal(animal):\n",
    "    animal.hacer_sonido()\n",
    "\n",
    "gato = Gato()\n",
    "perro = Perro()\n",
    "\n",
    "hacer_sonido_animal(gato)\n",
    "hacer_sonido_animal(perro)\n"
   ]
  },
  {
   "cell_type": "markdown",
   "metadata": {},
   "source": [
    "✅ Aunque las clases son diferentes, se pueden usar de forma similar gracias al mismo método."
   ]
  }
 ],
 "metadata": {
  "kernelspec": {
   "display_name": "Python 3",
   "language": "python",
   "name": "python3"
  },
  "language_info": {
   "codemirror_mode": {
    "name": "ipython",
    "version": 3
   },
   "file_extension": ".py",
   "mimetype": "text/x-python",
   "name": "python",
   "nbconvert_exporter": "python",
   "pygments_lexer": "ipython3",
   "version": "3.12.1"
  }
 },
 "nbformat": 4,
 "nbformat_minor": 2
}
