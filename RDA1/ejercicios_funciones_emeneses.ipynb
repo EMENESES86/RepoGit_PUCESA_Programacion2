{
  "cells": [
    {
      "cell_type": "markdown",
      "metadata": {},
      "source": [
        "# Ing. Edison Meneses MSc.\n",
        "### Ingeniero en Sistemas de Información  \n",
        "### Magister en Sistemas de Información Mención en Inteligencia de Negocios y Analítica Datos Masivos  \n",
        "### emeneses@emenesesdevelopers.com"
      ]
    },
    {
      "cell_type": "markdown",
      "metadata": {},
      "source": [
        "# Ejercicio de funciones en Python"
      ]
    },
    {
      "cell_type": "markdown",
      "id": "bee748f4",
      "metadata": {},
      "source": [
        "# Funciones (def)\n",
        "\n",
        "## Una función es un bloque de código asociado un nombre, de manera que cada vez que se quiera ejecutar el bloque de código basta con invocar el nombre de la función.\n",
        "\n"
      ]
    },
    {
      "cell_type": "code",
      "execution_count": 99,
      "metadata": {},
      "outputs": [
        {
          "name": "stdout",
          "output_type": "stream",
          "text": [
            "Hola Edison como estas\n",
            "\n",
            "\n"
          ]
        }
      ],
      "source": [
        "# print(\"***Estructura de una función***\")\n",
        "def emeneses(): #función \n",
        "    print(\"Hola Edison como estas\") #bloque de código que se ejecutara cuando se invoque la función\n",
        "emeneses() #Invocación de la función\n",
        "print(\"\\n\")"
      ]
    },
    {
      "cell_type": "code",
      "execution_count": 100,
      "metadata": {},
      "outputs": [
        {
          "name": "stdout",
          "output_type": "stream",
          "text": [
            "Estamos estudiando Python Edison\n",
            "\n",
            "\n"
          ]
        }
      ],
      "source": [
        "# print(\"***Parámetros y argumentos de una función***\")\n",
        "def funcion(nombre):\n",
        "    print(\"Estamos estudiando Python\", nombre)\n",
        "funcion(\"Edison\")\n",
        "print(\"\\n\")"
      ]
    },
    {
      "cell_type": "code",
      "execution_count": 101,
      "metadata": {},
      "outputs": [
        {
          "name": "stdout",
          "output_type": "stream",
          "text": [
            "***Paso de argumentos a una función***\n",
            "Estamos estudiando Python Edison Meneses\n",
            "Estamos estudiando Python Edison Meneses\n",
            "\n",
            "\n"
          ]
        }
      ],
      "source": [
        "# Los argumentos se pueden pasar de dos formas:\n",
        "# Argumentos posicionales: Se asocian a los parámetros de la función en el mismo orden que aparecen en la definición de la función.\n",
        "# Argumentos nominales: Se indica explícitamente el nombre del parámetro al que se asocia un argumento de la forma parametro = argumento.\n",
        "print(\"***Paso de argumentos a una función***\")\n",
        "def datos(nombre, apellido):\n",
        "    print(\"Estamos estudiando Python\", nombre, apellido)\n",
        "datos(\"Edison\",\"Meneses\")# Argumentos posicionales\n",
        "datos(nombre=\"Edison\",apellido=\"Meneses\")# Argumentos nominales\n",
        "print(\"\\n\")"
      ]
    },
    {
      "cell_type": "code",
      "execution_count": 102,
      "metadata": {},
      "outputs": [
        {
          "name": "stdout",
          "output_type": "stream",
          "text": [
            "3.0\n",
            "10.0\n",
            "\n",
            "\n"
          ]
        }
      ],
      "source": [
        "# print(\"***Retorno de una función***\")\n",
        "def area_triangulo(base, altura):\n",
        "    calc=base*altura/2\n",
        "    print(calc)\n",
        "area_triangulo(2,3)#Ejemplo 1 con diferentes datos de base y altura\n",
        "area_triangulo(4,5)#Ejemplo 1 con diferentes datos de base y altura\n",
        "print(\"\\n\")"
      ]
    },
    {
      "cell_type": "code",
      "execution_count": 103,
      "metadata": {},
      "outputs": [
        {
          "name": "stdout",
          "output_type": "stream",
          "text": [
            "***Argumentos por defecto***\n",
            "¡Bienvenido a Python EMENESES!\n",
            "¡Bienvenido a PHP EMENESES!\n",
            "\n",
            "\n"
          ]
        }
      ],
      "source": [
        "print(\"***Argumentos por defecto***\")\n",
        "def welcome(nombre, lenguaje = 'Python'):\n",
        "    print('¡Bienvenido a', lenguaje, nombre + '!')\n",
        "welcome(\"EMENESES\")#Ejemplo con los datos originales de la función\n",
        "welcome(\"EMENESES\",\"PHP\")#ejemplo con cambio de datos en el lenguaje de la función\n",
        "#NOTA:Los parámetros con un argumento por defecto deben indicarse después de los parámetros sin argumentos por defectos. De lo contrario se produce un error.\n",
        "print(\"\\n\")"
      ]
    },
    {
      "cell_type": "markdown",
      "id": "062347ab",
      "metadata": {},
      "source": [
        "__________"
      ]
    },
    {
      "cell_type": "markdown",
      "id": "a7248511",
      "metadata": {},
      "source": [
        "# Ciclo for"
      ]
    },
    {
      "cell_type": "code",
      "execution_count": 104,
      "id": "0d8daeea",
      "metadata": {},
      "outputs": [
        {
          "name": "stdout",
          "output_type": "stream",
          "text": [
            "Hola Edison como estas 1\n",
            "Hola Edison como estas 2\n",
            "Hola Edison como estas 3\n"
          ]
        }
      ],
      "source": [
        "for i in range(1,4):\n",
        "    print(\"Hola Edison como estas\", i)"
      ]
    },
    {
      "cell_type": "code",
      "execution_count": 105,
      "id": "1b512707",
      "metadata": {},
      "outputs": [
        {
          "name": "stdout",
          "output_type": "stream",
          "text": [
            "Tabla del  0\n",
            "0 * 0 = 0\n",
            "0 * 1 = 0\n",
            "0 * 2 = 0\n",
            "Tabla del  1\n",
            "1 * 0 = 0\n",
            "1 * 1 = 1\n",
            "1 * 2 = 2\n",
            "Tabla del  2\n",
            "2 * 0 = 0\n",
            "2 * 1 = 2\n",
            "2 * 2 = 4\n"
          ]
        }
      ],
      "source": [
        "for j in range(0,2+1):\n",
        "    print(\"Tabla del \",j)\n",
        "    for k in range(0,2+1):\n",
        "        print(j,\"*\",k,\"=\",j*k)"
      ]
    },
    {
      "cell_type": "code",
      "execution_count": 106,
      "id": "0d0b7def",
      "metadata": {},
      "outputs": [
        {
          "name": "stdout",
          "output_type": "stream",
          "text": [
            "Tabla del  0\n",
            "0 * 0 * 0 = 0\n",
            "0 * 0 * 1 = 0\n",
            "0 * 0 * 2 = 0\n",
            "0 * 1 * 0 = 0\n",
            "0 * 1 * 1 = 0\n",
            "0 * 1 * 2 = 0\n",
            "0 * 2 * 0 = 0\n",
            "0 * 2 * 1 = 0\n",
            "0 * 2 * 2 = 0\n",
            "Tabla del  1\n",
            "1 * 0 * 0 = 0\n",
            "1 * 0 * 1 = 0\n",
            "1 * 0 * 2 = 0\n",
            "1 * 1 * 0 = 0\n",
            "1 * 1 * 1 = 1\n",
            "1 * 1 * 2 = 2\n",
            "1 * 2 * 0 = 0\n",
            "1 * 2 * 1 = 2\n",
            "1 * 2 * 2 = 4\n",
            "Tabla del  2\n",
            "2 * 0 * 0 = 0\n",
            "2 * 0 * 1 = 0\n",
            "2 * 0 * 2 = 0\n",
            "2 * 1 * 0 = 0\n",
            "2 * 1 * 1 = 2\n",
            "2 * 1 * 2 = 4\n",
            "2 * 2 * 0 = 0\n",
            "2 * 2 * 1 = 4\n",
            "2 * 2 * 2 = 8\n"
          ]
        }
      ],
      "source": [
        "for a in range(0,2+1):\n",
        "    print(\"Tabla del \",a)\n",
        "    for b in range(0,2+1):\n",
        "        # print(a,\"*\",b,\"=\",a*b)\n",
        "        for c in range(0,2+1):\n",
        "            print(a,\"*\",b,\"*\",c,\"=\",a*b*c)"
      ]
    },
    {
      "cell_type": "code",
      "execution_count": 107,
      "id": "252aec12",
      "metadata": {},
      "outputs": [
        {
          "name": "stdout",
          "output_type": "stream",
          "text": [
            "EMENESES  10\n",
            "EMENESES  200\n",
            "EMENESES  38\n"
          ]
        }
      ],
      "source": [
        "for t in [10,200,38]:\n",
        "    print(\"EMENESES \",t)"
      ]
    },
    {
      "cell_type": "code",
      "execution_count": 108,
      "id": "7e921d00",
      "metadata": {},
      "outputs": [
        {
          "name": "stdout",
          "output_type": "stream",
          "text": [
            "su cuadrado es:  100\n",
            "su cuadrado es:  40000\n",
            "su cuadrado es:  1444\n"
          ]
        }
      ],
      "source": [
        "for r in [10,200,38]:\n",
        "    print(\"su cuadrado es: \",r**2)"
      ]
    },
    {
      "cell_type": "code",
      "execution_count": 109,
      "id": "e09be971",
      "metadata": {},
      "outputs": [
        {
          "name": "stdout",
          "output_type": "stream",
          "text": [
            "El elemento del ciclo es:  4\n",
            "4 * 9 = 36\n",
            "4 * 5 = 20\n",
            "4 * 1 = 4\n",
            "El elemento del ciclo es:  5\n",
            "5 * 9 = 45\n",
            "5 * 5 = 25\n",
            "5 * 1 = 5\n",
            "El elemento del ciclo es:  6\n",
            "6 * 9 = 54\n",
            "6 * 5 = 30\n",
            "6 * 1 = 6\n"
          ]
        }
      ],
      "source": [
        "for l in [4,5,6]:\n",
        "    print(\"El elemento del ciclo es: \",l)\n",
        "    for m in [9,5,1]:\n",
        "        print(l,\"*\",m,\"=\",l*m)"
      ]
    },
    {
      "cell_type": "code",
      "execution_count": 110,
      "id": "87a442e8",
      "metadata": {},
      "outputs": [
        {
          "name": "stdout",
          "output_type": "stream",
          "text": [
            "0  El número es par\n",
            "2  El número es par\n",
            "4  El número es par\n",
            "6  El número es par\n",
            "8  El número es par\n",
            "10  El número es par\n",
            "1  El número es impar\n",
            "3  El número es impar\n",
            "5  El número es impar\n",
            "7  El número es impar\n",
            "9  El número es impar\n"
          ]
        }
      ],
      "source": [
        "for p in range(0,10+1):    \n",
        "    resto = p%2\n",
        "    if resto == 0:\n",
        "        print(p,\" El número es par\")\n",
        "        \n",
        "for p in range(0,10+1):    \n",
        "    resto = p%2\n",
        "    if resto != 0:\n",
        "        print(p,\" El número es impar\")\n"
      ]
    },
    {
      "cell_type": "markdown",
      "id": "354fde7d",
      "metadata": {},
      "source": [
        "__________"
      ]
    },
    {
      "cell_type": "code",
      "execution_count": 111,
      "metadata": {},
      "outputs": [
        {
          "name": "stdout",
          "output_type": "stream",
          "text": [
            "***Pasar un número indeterminado de argumentos***\n",
            "Hoy tenemos: pasta, pizza, ensalada, \n",
            "\n"
          ]
        }
      ],
      "source": [
        "print(\"***Pasar un número indeterminado de argumentos***\")\n",
        "#*parametro: Se antepone un asterisco al nombre del parámetro y en la invocación de la función se pasa el número variable de argumentos separados por comas.\n",
        "def menu(*platos):\n",
        "    print('Hoy tenemos: ', end='')\n",
        "    for plato in platos:\n",
        "        print(plato, end=', ')\n",
        "menu('pasta', 'pizza', 'ensalada')\n",
        "print(\"\\n\")"
      ]
    },
    {
      "cell_type": "code",
      "execution_count": 112,
      "metadata": {},
      "outputs": [
        {
          "name": "stdout",
          "output_type": "stream",
          "text": [
            "Datos del contacto\n",
            "Nombre : EMENESES\n",
            "Email : emeneses@emenesesdevelopers.com\n",
            "\n",
            "\n",
            "Datos del contacto\n",
            "Nombre : EMENESES\n",
            "Email : emeneses@emenesesdevelopers.com\n",
            "Dirección : Quito-Ecuador\n",
            "\n",
            "\n"
          ]
        }
      ],
      "source": [
        "#**parametro: Se anteponen dos asteriscos al nombre del parámetro y en la invocación de la función se pasa el número variable de argumentos por pares nombre = valor, separados por comas.\n",
        "def contacto(**info):\n",
        "    print(\"Datos del contacto\")\n",
        "    for clave, valor in info.items():\n",
        "        print(clave, \":\", valor)\n",
        "contacto(Nombre = \"EMENESES\", Email = \"emeneses@emenesesdevelopers.com\")\n",
        "print(\"\\n\")\n",
        "contacto(Nombre = \"EMENESES\", Email = \"emeneses@emenesesdevelopers.com\", Dirección = \"Quito-Ecuador\")\n",
        "print(\"\\n\")"
      ]
    },
    {
      "cell_type": "code",
      "execution_count": 113,
      "metadata": {},
      "outputs": [
        {
          "name": "stdout",
          "output_type": "stream",
          "text": [
            "***Las funciones son objetos***\n",
            "Hola como estas EMENESES\n",
            "\n",
            "\n"
          ]
        }
      ],
      "source": [
        "print(\"***Las funciones son objetos***\")\n",
        "#OJO OJO OJO OJO\n",
        "#En Python las funciones son objetos como el resto de tipos de datos, de manera que es posible asignar una función a una variable y luego utilizar la variable para hacer la llamada a la función.\n",
        "def saludo(nombre):\n",
        "    print(\"Hola como estas\", nombre)\n",
        "    return\n",
        "bienvenida = saludo #asignar una función a una variable y luego utilizar la variable para hacer la llamada a la función\n",
        "bienvenida(\"EMENESES\")\n",
        "print(\"\\n\")\n"
      ]
    },
    {
      "cell_type": "code",
      "execution_count": 114,
      "metadata": {},
      "outputs": [
        {
          "name": "stdout",
          "output_type": "stream",
          "text": [
            "***Funciones recursivas***\n",
            "4\n",
            "3\n",
            "2\n",
            "1\n",
            "Boooooooom!\n",
            "\n",
            "\n"
          ]
        }
      ],
      "source": [
        "print(\"***Funciones recursivas***\")\n",
        "def cuenta_regresiva(numero):\n",
        "    numero -= 1\n",
        "    if numero > 0:\n",
        "        print (numero)\n",
        "        cuenta_regresiva(numero)\n",
        "    else:\n",
        "        print (\"Boooooooom!\")\n",
        "    # print (\"Fin de la función\", numero)\n",
        "cuenta_regresiva(5)\n",
        "print(\"\\n\")"
      ]
    },
    {
      "cell_type": "code",
      "execution_count": 115,
      "metadata": {},
      "outputs": [
        {
          "name": "stdout",
          "output_type": "stream",
          "text": [
            "***Función recursiva con retorno***\n",
            "Valor inicial -> 5\n",
            "Valor inicial -> 4\n",
            "Valor inicial -> 3\n",
            "Valor inicial -> 2\n",
            "Valor inicial -> 1\n",
            "valor final -> 1\n",
            "valor final -> 2\n",
            "valor final -> 6\n",
            "valor final -> 24\n",
            "valor final -> 120\n",
            "120\n"
          ]
        }
      ],
      "source": [
        "print(\"***Función recursiva con retorno***\")\n",
        "#Es el ejemplo del calculo del factorial de un número corresponde al producto de todos los números desde 1 hasta el propio número. Es el ejemplo con retorno más utilizado para mostrar la utilidad de este tipo de funciones:\n",
        "def factorial(numero):\n",
        "    print (\"Valor inicial ->\",numero)\n",
        "    if numero > 1:\n",
        "        numero = numero * factorial(numero -1)\n",
        "    print (\"valor final ->\",numero)\n",
        "    return numero\n",
        "print (factorial(5))"
      ]
    },
    {
      "cell_type": "code",
      "execution_count": 116,
      "metadata": {},
      "outputs": [
        {
          "name": "stdout",
          "output_type": "stream",
          "text": [
            "Nombre: Juan, Edad: 30, Ocupación: Ingeniero\n",
            "Nombre: María, Edad: 25, Ocupación: Doctora\n"
          ]
        }
      ],
      "source": [
        "# Una clase en Python es un plano para crear objetos. Proporciona una estructura que define las propiedades y comportamientos de los objetos que se van a crear a partir de ella.\n",
        "# El método __init__ generalmente se centran en la creación de clases y la inicialización de atributos al momento de instanciar un objeto.\n",
        "\n",
        "class Persona:\n",
        "    def __init__(self, nombre, edad, ocupacion):\n",
        "        self.nombre = nombre\n",
        "        self.edad = edad\n",
        "        self.ocupacion = ocupacion\n",
        "\n",
        "    def descripcion(self):\n",
        "        return f\"Nombre: {self.nombre}, Edad: {self.edad}, Ocupación: {self.ocupacion}\"\n",
        "\n",
        "# Creamos objetos de tipo Persona\n",
        "persona1 = Persona(\"Juan\", 30, \"Ingeniero\")\n",
        "persona2 = Persona(\"María\", 25, \"Doctora\")\n",
        "\n",
        "# Mostramos la descripción de cada persona\n",
        "print(persona1.descripcion())\n",
        "print(persona2.descripcion())"
      ]
    },
    {
      "cell_type": "code",
      "execution_count": 117,
      "metadata": {},
      "outputs": [
        {
          "name": "stdout",
          "output_type": "stream",
          "text": [
            "\n",
            "Información de la persona creada:\n",
            "Nombre: Edison, Edad: 38, Ocupación: Ingeniero en sistemas\n"
          ]
        }
      ],
      "source": [
        "class Persona:\n",
        "    def __init__(self, nombre, edad, ocupacion):\n",
        "        self.nombre = nombre\n",
        "        self.edad = edad\n",
        "        self.ocupacion = ocupacion\n",
        "\n",
        "    def descripcion(self):\n",
        "        return f\"Nombre: {self.nombre}, Edad: {self.edad}, Ocupación: {self.ocupacion}\"\n",
        "\n",
        "# Pedimos al usuario que ingrese información para crear objetos Persona\n",
        "nombre = input(\"Ingresa tu nombre: \")\n",
        "edad = int(input(\"Ingresa tu edad: \"))\n",
        "ocupacion = input(\"Ingresa tu ocupación: \")\n",
        "\n",
        "# Creamos un objeto de tipo Persona con la información proporcionada por el usuario\n",
        "nueva_persona = Persona(nombre, edad, ocupacion)\n",
        "\n",
        "# Mostramos la descripción de la persona creada\n",
        "print(\"\\nInformación de la persona creada:\")\n",
        "print(nueva_persona.descripcion())"
      ]
    },
    {
      "cell_type": "code",
      "execution_count": 118,
      "id": "e7f1f635",
      "metadata": {},
      "outputs": [
        {
          "name": "stdout",
          "output_type": "stream",
          "text": [
            "\n",
            "--- Gestión de Personas ---\n",
            "1. Agregar persona\n",
            "2. Mostrar todas las personas\n",
            "3. Buscar persona por nombre\n",
            "4. Salir\n",
            "La persona 'Edison' ha sido agregada.\n",
            "\n",
            "--- Gestión de Personas ---\n",
            "1. Agregar persona\n",
            "2. Mostrar todas las personas\n",
            "3. Buscar persona por nombre\n",
            "4. Salir\n",
            "¡Hasta luego!\n"
          ]
        }
      ],
      "source": [
        "# Este programa permite:\n",
        "\n",
        "# Agregar personas a una lista.\n",
        "# Mostrar todas las personas en la lista.\n",
        "# Buscar una persona por su nombre en la lista.\n",
        "# Salir del programa.\n",
        "class Persona:\n",
        "    def __init__(self, nombre, edad, ocupacion):\n",
        "        self.nombre = nombre\n",
        "        self.edad = edad\n",
        "        self.ocupacion = ocupacion\n",
        "\n",
        "    def descripcion(self):\n",
        "        return f\"Nombre: {self.nombre}, Edad: {self.edad}, Ocupación: {self.ocupacion}\"\n",
        "\n",
        "\n",
        "def mostrar_menu():\n",
        "    print(\"\\n--- Gestión de Personas ---\")\n",
        "    print(\"1. Agregar persona\")\n",
        "    print(\"2. Mostrar todas las personas\")\n",
        "    print(\"3. Buscar persona por nombre\")\n",
        "    print(\"4. Salir\")\n",
        "\n",
        "\n",
        "personas = []\n",
        "\n",
        "while True:\n",
        "    mostrar_menu()\n",
        "\n",
        "    opcion = input(\"Seleccione una opción: \")\n",
        "\n",
        "    if opcion == \"1\":\n",
        "        nombre = input(\"Ingrese el nombre de la persona: \")\n",
        "        edad = int(input(\"Ingrese la edad de la persona: \"))\n",
        "        ocupacion = input(\"Ingrese la ocupación de la persona: \")\n",
        "        nueva_persona = Persona(nombre, edad, ocupacion)\n",
        "        personas.append(nueva_persona)\n",
        "        print(f\"La persona '{nombre}' ha sido agregada.\")\n",
        "\n",
        "    elif opcion == \"2\":\n",
        "        if len(personas) > 0:\n",
        "            print(\"\\n--- Lista de Personas ---\")\n",
        "            for persona in personas:\n",
        "                print(persona.descripcion())\n",
        "        else:\n",
        "            print(\"No hay personas en la lista.\")\n",
        "\n",
        "    elif opcion == \"3\":\n",
        "        if len(personas) > 0:\n",
        "            nombre_buscar = input(\"Ingrese el nombre de la persona a buscar: \")\n",
        "            encontrada = False\n",
        "            for persona in personas:\n",
        "                if persona.nombre.lower() == nombre_buscar.lower():\n",
        "                    print(\"Persona encontrada:\")\n",
        "                    print(persona.descripcion())\n",
        "                    encontrada = True\n",
        "                    break\n",
        "            if not encontrada:\n",
        "                print(f\"No se encontró a '{nombre_buscar}' en la lista.\")\n",
        "        else:\n",
        "            print(\"No hay personas en la lista.\")\n",
        "\n",
        "    elif opcion == \"4\":\n",
        "        print(\"¡Hasta luego!\")\n",
        "        break\n",
        "\n",
        "    else:\n",
        "        print(\"Opción no válida. Por favor, seleccione una opción válida.\")"
      ]
    }
  ],
  "metadata": {
    "kernelspec": {
      "display_name": "Python 3",
      "language": "python",
      "name": "python3"
    },
    "language_info": {
      "codemirror_mode": {
        "name": "ipython",
        "version": 3
      },
      "file_extension": ".py",
      "mimetype": "text/x-python",
      "name": "python",
      "nbconvert_exporter": "python",
      "pygments_lexer": "ipython3",
      "version": "3.12.1"
    }
  },
  "nbformat": 4,
  "nbformat_minor": 5
}
