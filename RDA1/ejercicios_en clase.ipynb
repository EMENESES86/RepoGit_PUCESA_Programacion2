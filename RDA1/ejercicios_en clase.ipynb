{
 "cells": [
  {
   "cell_type": "markdown",
   "metadata": {},
   "source": [
    "# Ing. Edison Meneses MSc.\n",
    "### Ingeniero en Sistemas de Información  \n",
    "### Magister en Sistemas de Información Mención en Inteligencia de Negocios y Analítica Datos Masivos  \n",
    "### efmenesest@pucesa.edu.ec"
   ]
  },
  {
   "cell_type": "markdown",
   "metadata": {},
   "source": [
    "_____________"
   ]
  },
  {
   "cell_type": "markdown",
   "metadata": {},
   "source": [
    "# 📊 Rúbrica de Evaluación – Programación Orientada a Objetos en Python\n",
    "\n",
    "## 🎯 Indicaciones para los estudiantes:\n",
    "\n",
    "**Instrucciones:**\n",
    "\n",
    "1. Resolver los **4 ejercicios** en **Python**.\n",
    "2. Generar un archivo **PDF** que incluya:\n",
    "   - Capturas de pantalla del código y su ejecución.\n",
    "   - Una breve **descripción del funcionamiento** de cada ejercicio.\n",
    "   - Una **explicación de la implementación** (¿cómo resolviste el ejercicio? ¿qué estructuras usaste?).\n",
    "\n",
    "---\n",
    "\n",
    "## ✅ Rúbrica de Calificación (Total: 50 puntos)\n",
    "\n",
    "| Criterio | Excelente (10 puntos) | Bueno (7–9 puntos) | Aceptable (5–6 puntos) | Insuficiente (0–4 puntos) |\n",
    "|---------|------------------------|--------------------|------------------------|-----------------------------|\n",
    "| **1. Implementación en Python**<br> (Clases, atributos, métodos, objetos) | Los 4 ejercicios están correctamente implementados siguiendo la lógica de POO. | 3 ejercicios bien implementados. | 2 ejercicios con estructura básica, pero errores menores. | 1 o ningún ejercicio correctamente implementado. |\n",
    "| **2. Capturas de pantalla**<br> (Código y ejecución) | Capturas claras y completas de código y salida para los 4 ejercicios. | Evidencias completas en 3 ejercicios. | Capturas incompletas o borrosas en 2 ejercicios. | 1 o ningún ejercicio con evidencia válida. |\n",
    "| **3. Descripción del funcionamiento**<br> (¿Qué hace el programa?) | Explicación lógica, clara y completa del propósito de cada ejercicio. | Explicación entendible con algunas omisiones. | Explicación muy breve o poco clara. | Sin explicación o sin relación con el código. |\n",
    "| **4. Explicación de la implementación**<br> (¿Cómo está hecho el código?) | Explica paso a paso y con claridad el uso de clases, atributos y métodos. | Explica parcialmente la lógica de programación. | Menciona lo que hace pero sin suficiente profundidad. | No hay explicación o está mal fundamentada. |\n",
    "| **5. Presentación del archivo PDF**<br> (Orden, claridad, formato) | El PDF está bien organizado, con títulos, orden y formato legible. | Presentación aceptable con pequeños errores. | Desordenado o sin numeración clara de ejercicios. | Archivo mal estructurado o ilegible. |\n",
    "\n",
    "---\n",
    "\n",
    "### 📝 Puntaje Total: /50 puntos\n",
    "\n",
    "\n"
   ]
  },
  {
   "cell_type": "markdown",
   "metadata": {},
   "source": [
    "_____________________________"
   ]
  },
  {
   "cell_type": "markdown",
   "metadata": {},
   "source": [
    "# Ejercicios Prácticos\n"
   ]
  },
  {
   "cell_type": "markdown",
   "metadata": {},
   "source": [
    "## 🔸 Ejercicio 1: Crear una clase Libro\n",
    "\n",
    "Crea una clase que tenga los atributos: titulo, autor, anio. Agrega un método que imprima un mensaje con los datos del libro."
   ]
  },
  {
   "cell_type": "markdown",
   "metadata": {},
   "source": [
    "## 🔸 Ejercicio 2: Clase Estudiante\n",
    "\n",
    "Crea una clase con atributos nombre, carrera, y nota_final. Agrega un método que diga si aprobó (nota ≥ 7)."
   ]
  },
  {
   "cell_type": "markdown",
   "metadata": {},
   "source": [
    "## 🔸 Ejercicio 3: Herencia\n",
    "\n",
    "Crea una clase base Vehiculo con el método moverse. Crea una clase Auto que herede de Vehiculo y sobrescriba el método."
   ]
  },
  {
   "cell_type": "markdown",
   "metadata": {},
   "source": [
    "## 🔸 Ejercicio 4: Polimorfismo\n",
    "\n",
    "Crea dos clases: Pajaro y Gato, cada una con el método sonido(). Luego, usa una función que reciba un objeto y llame al método sonido()."
   ]
  }
 ],
 "metadata": {
  "language_info": {
   "name": "python"
  }
 },
 "nbformat": 4,
 "nbformat_minor": 2
}
